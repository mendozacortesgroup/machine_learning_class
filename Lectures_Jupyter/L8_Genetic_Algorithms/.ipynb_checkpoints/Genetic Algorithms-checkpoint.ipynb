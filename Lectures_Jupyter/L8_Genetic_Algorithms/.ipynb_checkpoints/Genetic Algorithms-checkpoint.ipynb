{
 "cells": [
  {
   "cell_type": "markdown",
   "metadata": {},
   "source": [
    "# Genetic Algorithms (GAs)"
   ]
  },
  {
   "cell_type": "markdown",
   "metadata": {},
   "source": [
    "A genetic algorithm is a search heuristic that is inspired by Charles Darwin’s theory of natural evolution. This algorithm reflects the process of natural selection where the fittest individuals are selected for reproduction in order to produce offspring of the next generation.\n",
    "\n",
    "The process of natural selection starts with the selection of fittest individuals from a population. They produce offspring which inherit the characteristics of the parents and will be added to the next generation. If parents have better fitness, their offspring will be better than parents and have a better chance at surviving. This process keeps on iterating and at the end, a generation with the fittest individuals will be found."
   ]
  },
  {
   "cell_type": "markdown",
   "metadata": {},
   "source": [
    "![Figure 1](GAFigure1.png)"
   ]
  },
  {
   "cell_type": "markdown",
   "metadata": {},
   "source": [
    "## Motivation"
   ]
  },
  {
   "cell_type": "markdown",
   "metadata": {},
   "source": [
    "Some difficult problems have real-world applications. Imagine that you are using your GPS Navigation system, and it takes a few minutes (or even a few hours) to compute the “optimal” path from the source to destination. Delay in such real world applications is not acceptable and therefore a “good-enough” solution, which is delivered “fast” is what is required.\n",
    "A classic example of this representation is the travelling salesman problem (TSP). In this the salesman has to take a tour of all the cities, visiting each city exactly once and come back to the starting city. The total distance of the tour has to be minimized. The solution to this TSP is naturally an ordering or permutation of all the cities and therefore using a permutation representation makes sense for this problem. For example for 5 cities there are 120 different solutions (5!=120) but if we have 10 cities,there are 3,628,800 posibilities.\n",
    "\n",
    "This notion can be applied for a search problem. We consider a set of solutions for a problem and select the set of best ones out of them.\n",
    "\n",
    "Genetic Algorithms are frequently used:\n",
    "\n",
    "   + Optimization. Genetic Algorithms are most commonly used in optimization problems wherein we have to maximize or minimize a given objective function value under a given set of constraints. \n",
    "\n",
    "   + Economics. GAs are also used to characterize various economic models like the cobweb model, game theory equilibrium resolution, asset pricing, etc.\n",
    "\n",
    "   + Parallelization. GAs also have very good parallel capabilities, and prove to be very effective means in solving certain problems, and also provide a good area for research.\n",
    "\n",
    "   + Vehicle routing problems. With multiple soft time windows, multiple depots and a heterogeneous fleet.\n",
    "\n",
    "   + Robot Trajectory Generation. GAs have been used to plan the path which a robot arm takes by moving from one point to another.\n",
    "\n",
    "   + Multimodal Optimization. GAs are obviously very good approaches for multimodal optimization in which we have to find multiple optimum solutions.\n",
    "    \n",
    "**Advantages**\n",
    "\n",
    "   + Does not require any derivative information (which may not be available for many real-world problems).\n",
    "\n",
    "   + Is faster and more efficient as compared to the traditional methods.\n",
    "\n",
    "   + Has very good parallel capabilities.\n",
    "\n",
    "   + Provides a list of “good” solutions and not just a single solution.\n",
    "\n",
    "   + Always gets an answer to the problem, which gets better over the time.\n",
    "\n",
    "   + Useful when the search space is very large and there are a large number of parameters involved.\n",
    "\n",
    "**Limitations**\n",
    "\n",
    "   + GAs are not suited for all problems, especially problems which are simple and for which derivative information is available. Probably we don'tget the global optimum solution\n",
    "    \n",
    "   + Fitness value is calculated repeatedly which might be computationally expensive for some problems; in other words, \n",
    "\n",
    "   + Being stochastic, there are no guarantees on the optimality or the quality of the solution.\n",
    "\n",
    "   + If not implemented properly, the GA may not converge to the optimal solution."
   ]
  },
  {
   "cell_type": "markdown",
   "metadata": {},
   "source": [
    "# Process"
   ]
  },
  {
   "cell_type": "markdown",
   "metadata": {},
   "source": [
    "Five phases are considered in a genetic algorithm.\n",
    "\n",
    "   1) Population initialization\n",
    "   2) Fitness function\n",
    "   3) Selection\n",
    "   4) Crossover\n",
    "   5) Mutation"
   ]
  },
  {
   "cell_type": "markdown",
   "metadata": {},
   "source": [
    "![Figure 2](GAFigure2.png)"
   ]
  },
  {
   "cell_type": "markdown",
   "metadata": {},
   "source": [
    "**Initial Population**\n",
    "\n",
    "The process begins with a set of individuals which is called a Population. Each individual is a solution to the problem you want to solve.An individual is characterized by a set of parameters (variables) known as Genes. Genes are joined into a string to form a Chromosome (solution).\n",
    "\n",
    "**Fitness Function**\n",
    "\n",
    "The fitness function determines how fit an individual is (the ability of an individual to compete with other individuals). It gives a fitness score to each individual. The probability that an individual will be selected for reproduction is based on its fitness score.\n",
    "\n",
    "**Selection**\n",
    "\n",
    "The idea of selection phase is to select the fittest individuals and let them pass their genes to the next generation.\n",
    "\n",
    "Two pairs of individuals (parents) are selected based on their fitness scores. Individuals with high fitness have more chance to be selected for reproduction.\n",
    "\n",
    "**Crossover**\n",
    "\n",
    "Crossover is the most significant phase in a genetic algorithm. For each pair of parents to be mated, a crossover point is chosen at random from within the genes.\n"
   ]
  },
  {
   "cell_type": "markdown",
   "metadata": {},
   "source": [
    "![Figure 3.](GAFigure3.png)"
   ]
  },
  {
   "cell_type": "markdown",
   "metadata": {},
   "source": [
    "**Mutation**\n",
    "\n",
    "In certain new offspring formed, some of their genes can be subjected to a mutation with a low random probability. This implies that some of the bits in the bit string can be flipped."
   ]
  },
  {
   "cell_type": "markdown",
   "metadata": {},
   "source": [
    "![Figure 4.](GAFigure4.png)"
   ]
  },
  {
   "cell_type": "markdown",
   "metadata": {},
   "source": [
    "# Some details to take into account"
   ]
  },
  {
   "cell_type": "markdown",
   "metadata": {},
   "source": [
    "The population size should not be kept very large as it can cause a GA to slow down, while a smaller population might not be enough for a good mating pool. Therefore, an optimal population size needs to be decided by trial and error.\n",
    "\n",
    "In a generational model, we generate ‘n’ off-springs, we can take the best off-springs and replace some individuals from the initial population or the entire population is replaced by the new one at the end of the iteration. What do you choose?\n",
    "\n",
    "For a new generation, is it better choose just all the best ones? Parent selection is very crucial to the convergence rate of the GA as good parents drive individuals to a better and fitter solutions.\n",
    "\n",
    "However, care should be taken to prevent one extremely fit solution from taking over the entire population in a few generations, as this leads to the solutions being close to one another in the solution space thereby leading to a loss of diversity. Maintaining good diversity in the population is extremely crucial for the success of a GA. This taking up of the entire population by one extremely fit solution is known as premature convergence and is an undesirable condition in a GA.\n",
    "\n",
    "Some GAs employ Elitism, it means the current fittest member of the population is always propagated to the next generation,but keep in mind the diversity of the population should be maintained otherwise it might lead to premature convergence.\n",
    "\n",
    "In ordertoprevent premature convergence, there are several random methods for choosing parents: Roullte Wheel, Tournament, Stochastic Universal Sampling, or Random Selection. The fittest members have preference for reproducing, but they shouldn't be the only ones.\n",
    "\n",
    "Crossover process can be achive out splitting the chromosomes in two, three or uniform parts. \n",
    "\n",
    "Mutation is the part of the GA which is related to the “exploration” of the search space. It has been observed that mutation is essential to the convergence of the GA while crossover is not. We select one or more random bits and flip them.\n",
    "\n",
    "The Survivor Selection Policy determines which individuals are to be kicked out and which are to be kept in the next generation. It is crucial as it should ensure that the fitter individuals are not kicked out of the population, while at the same time diversity should be maintained in the population. See the comments in this video (5:30-9:10 min)\n"
   ]
  },
  {
   "cell_type": "code",
   "execution_count": 34,
   "metadata": {},
   "outputs": [
    {
     "data": {
      "image/jpeg": "[encoded data removed]",
      "text/html": [
       "\n",
       "        <iframe\n",
       "            width=\"400\"\n",
       "            height=\"300\"\n",
       "            src=\"https://www.youtube.com/embed/XP8R0yzAbdo\"\n",
       "            frameborder=\"0\"\n",
       "            allowfullscreen\n",
       "        ></iframe>\n",
       "        "
      ],
      "text/plain": [
       "<IPython.lib.display.YouTubeVideo at 0x107873390>"
      ]
     },
     "execution_count": 34,
     "metadata": {},
     "output_type": "execute_result"
    }
   ],
   "source": [
    "from IPython.display import YouTubeVideo\n",
    "YouTubeVideo(\"XP8R0yzAbdo\")"
   ]
  },
  {
   "cell_type": "markdown",
   "metadata": {},
   "source": [
    "The termination condition of a Genetic Algorithm is important in determining when a GA run will end. Usually, we keep one of the following termination conditions −\n",
    "\n",
    "   + When there has been no improvement in the population for X iterations.\n",
    "   + When we reach an absolute number of generations.\n",
    "   + When the objective function value has reached a certain pre-defined value."
   ]
  },
  {
   "cell_type": "markdown",
   "metadata": {},
   "source": [
    "# References"
   ]
  },
  {
   "cell_type": "markdown",
   "metadata": {},
   "source": [
    "+ Genetic Algorithms in Search, Optimization and Machine Learning by David E. Goldberg.\n",
    "\n",
    "+ Genetic Algorithms + Data Structures = Evolutionary Programs by Zbigniew Michalewicz.\n",
    "\n",
    "+ Practical Genetic Algorithms by Randy L. Haupt and Sue Ellen Haupt.\n",
    "\n",
    "+ Multi Objective Optimization using Evolutionary Algorithms by Kalyanmoy Deb.\n",
    "   \n",
    "https://www.tutorialspoint.com/genetic_algorithms"
   ]
  },
  {
   "cell_type": "markdown",
   "metadata": {},
   "source": [
    "![Figure 5.](GAFigure5.png)"
   ]
  },
  {
   "cell_type": "markdown",
   "metadata": {},
   "source": [
    "**Example**"
   ]
  },
  {
   "cell_type": "markdown",
   "metadata": {},
   "source": [
    "Suppose there is an equation a + 2b + 3c + 4d = 30, GA will be used to find the variable a, b, c, and d that satisfy it. Firt we should formulate the objetive function, for this problem the function is  f(x) = a + 2b + 3c + 4d -30. Since there are four variables, we can restrict the values are integers between 0 and 30; in general they couldn't be neccesary integers but for ilustrate this example we assume this condition.  \n",
    "For the first step we choose 10 chromosomes;there are not clear criteria to choose the initial population, the first number of elements."
   ]
  },
  {
   "cell_type": "code",
   "execution_count": 9,
   "metadata": {},
   "outputs": [
    {
     "name": "stdout",
     "output_type": "stream",
     "text": [
      "population: [[17, 25, 25, 22], [23, 25, 19, 5], [22, 15, 22, 22], [11, 21, 23, 3], [6, 4, 18, 24], [18, 29, 21, 27], [21, 16, 19, 15], [26, 27, 27, 26], [5, 15, 9, 0], [2, 14, 14, 4], [14, 7, 4, 23], [22, 6, 4, 11], [14, 12, 16, 19], [0, 26, 11, 6], [1, 8, 27, 16], [9, 2, 18, 9], [23, 15, 22, 20], [24, 3, 7, 14], [8, 8, 16, 3], [16, 14, 21, 19], [2, 19, 26, 5], [28, 8, 7, 5], [11, 19, 15, 9], [15, 27, 27, 2], [12, 27, 29, 17], [10, 3, 4, 9], [11, 4, 21, 21], [0, 28, 23, 0], [9, 10, 24, 15], [28, 10, 28, 1], [0, 18, 6, 10], [0, 25, 20, 19], [15, 15, 11, 25], [28, 23, 17, 10], [5, 21, 22, 25], [17, 5, 29, 19], [27, 13, 8, 16], [5, 16, 22, 18], [18, 0, 15, 7], [3, 22, 24, 16], [21, 20, 11, 5], [6, 11, 20, 12], [16, 18, 18, 19], [13, 2, 17, 23], [2, 5, 12, 28], [19, 17, 17, 18], [11, 21, 10, 7], [5, 1, 15, 20], [14, 2, 2, 16], [8, 24, 25, 9]]\n"
     ]
    }
   ],
   "source": [
    "import random as random\n",
    "import math\n",
    "range_values = 30\n",
    "population_size = 50\n",
    "number_iterations = 4000\n",
    "percentage_mutations = .5\n",
    "#random initial population \n",
    "population = []\n",
    "for i in range(population_size):\n",
    "    p = [random.randrange(0,range_values,1), random.randrange(0,range_values,1), \n",
    "         random.randrange(0,range_values,1), random.randrange(0,range_values,1)]\n",
    "    population.append(p)\n",
    "print('population:', population)"
   ]
  },
  {
   "cell_type": "markdown",
   "metadata": {},
   "source": [
    "Now we make the evaluation of the population in the target function and select the chromosomes  "
   ]
  },
  {
   "cell_type": "code",
   "execution_count": 10,
   "metadata": {},
   "outputs": [
    {
     "name": "stdout",
     "output_type": "stream",
     "text": [
      "the top person is [5, 15, 9, 0] with fitness 32.0\n"
     ]
    }
   ],
   "source": [
    "def fitness(person):\n",
    "    return math.fabs(person[0]+2*person[1]+3*person[2]+4*person[3]-30)\n",
    "\n",
    "ordered_population = sorted(population, key = lambda people:fitness(people))\n",
    "#      Select 30% of total population from the top performers \n",
    "first_group = ordered_population[:int(population_size*.3)]\n",
    "\n",
    "#      select 20% of total population from the remaining people\n",
    "other = ordered_population[int(population_size*.3):]\n",
    "second_group = random.sample(other, int(.2*population_size))\n",
    "\n",
    "#      select 20% of total population from the remaining people\n",
    "selection = first_group+second_group\n",
    "print(f\"the top person is {selection[0]} with fitness {fitness(selection[0])}\")\n",
    "#if we find the top person with fitness 0 then we stop the process"
   ]
  },
  {
   "cell_type": "markdown",
   "metadata": {},
   "source": [
    "After evaluation, we can classify the initial population after in \"best\" and \"others\".  An advice about crossover, in order to avoid just keep the best ones (elithism), is taking the 30% from best chromosomes and 20% from the others chromosomes.    For the new chromosome 50% of mother and father were selected."
   ]
  },
  {
   "cell_type": "code",
   "execution_count": 11,
   "metadata": {},
   "outputs": [
    {
     "name": "stdout",
     "output_type": "stream",
     "text": [
      "20\n"
     ]
    }
   ],
   "source": [
    "#make crossover\n",
    "children = []\n",
    "number_inmigrants = int(.1* population_size)\n",
    "population_current_size = len(selection)\n",
    "for i in range(population_size-population_current_size-number_inmigrants):\n",
    "    father,mother = random.choices(selection, k=2)\n",
    "    child =  father[:2]+mother[2:]\n",
    "    children.append(child)\n",
    "print(len(children))"
   ]
  },
  {
   "cell_type": "markdown",
   "metadata": {},
   "source": [
    "In the croosover, new elements are made,  but the new generation it is not completed until the mutation. For this example the third and fourth elements were muted."
   ]
  },
  {
   "cell_type": "code",
   "execution_count": 12,
   "metadata": {},
   "outputs": [
    {
     "name": "stdout",
     "output_type": "stream",
     "text": [
      "50\n"
     ]
    }
   ],
   "source": [
    "#make mutation\n",
    "new_kids = []\n",
    "for child in children[:number_of_mutations]:\n",
    "    mutant = child[::-1]\n",
    "    new_kids.append(mutant)\n",
    "    \n",
    "#new population\n",
    "post_processed_children = new_kids+children[number_of_mutations:]\n",
    "        \n",
    "#      add inmigrants\n",
    "number_needed_people = population_size-len(selection)-len(post_processed_children)\n",
    "inmigrants = make_population(number_needed_people, range_values)\n",
    "population = selection+post_processed_children+inmigrants\n",
    "print(len(population))"
   ]
  },
  {
   "cell_type": "markdown",
   "metadata": {},
   "source": [
    "With the new elements the process is repeated: evaluation, selection, crossover and mutation.  The iteration process can be achived until it find the optimized solution (\"while\" loop) or delimitated for a specific number (\"for\" loop). If we choose 100 elements, we can find -at least- one solution. Lets' try."
   ]
  },
  {
   "cell_type": "markdown",
   "metadata": {},
   "source": [
    " "
   ]
  },
  {
   "cell_type": "code",
   "execution_count": 13,
   "metadata": {},
   "outputs": [
    {
     "name": "stdout",
     "output_type": "stream",
     "text": [
      "Initial population statistics: number of people 50 example [108, 9, 337, 472] \n",
      "top performance 865.0 worst performance 4624.0\n",
      "top performance 667.0 worst performance 4305.0\n",
      "top performance 534.0 worst performance 3615.0\n",
      "top performance 465.0 worst performance 3697.0\n",
      "top performance 400.0 worst performance 3816.0\n",
      "top performance 294.0 worst performance 2756.0\n",
      "top performance 285.0 worst performance 3015.0\n",
      "top performance 274.0 worst performance 3976.0\n",
      "top performance 265.0 worst performance 3907.0\n",
      "top performance 260.0 worst performance 3857.0\n",
      "top performance 193.0 worst performance 3036.0\n",
      "top performance 155.0 worst performance 2856.0\n",
      "top performance 125.0 worst performance 3044.0\n",
      "top performance 115.0 worst performance 2513.0\n",
      "top performance 85.0 worst performance 3409.0\n",
      "top performance 60.0 worst performance 4102.0\n",
      "top performance 53.0 worst performance 3838.0\n",
      "top performance 50.0 worst performance 3308.0\n"
     ]
    },
    {
     "data": {
      "image/png": "[encoded data removed]",
      "text/plain": [
       "<Figure size 648x288 with 2 Axes>"
      ]
     },
     "metadata": {
      "needs_background": "light"
     },
     "output_type": "display_data"
    }
   ],
   "source": [
    "#a+2b+3c+4d=30\n",
    "\n",
    "import random\n",
    "import math\n",
    "import numpy as np\n",
    "import matplotlib.pyplot as plt\n",
    "\n",
    "def make_population(population_size, range_values):\n",
    "    #We first start the population randomly\n",
    "    population = []\n",
    "    for i in range(population_size):\n",
    "        p = [random.randrange(0,range_values,1), random.randrange(0,range_values,1), \n",
    "             random.randrange(0,range_values,1), random.randrange(0,range_values,1)]\n",
    "        population.append(p)\n",
    "    return population\n",
    "    \n",
    "\n",
    "def fitness(person):\n",
    "    return math.fabs( person[0]+person[1]*2+person[2]*3+person[3]*4 -30)\n",
    "\n",
    "\n",
    "def crossover(selection, population_size):\n",
    "    children = []\n",
    "    number_inmigrants = int(.1* population_size)\n",
    "    population_current_size = len(selection)\n",
    "    for i in range(population_size-population_current_size-number_inmigrants):\n",
    "        father,mother = random.choices(selection, k=2)\n",
    "        child =  father[:2]+mother[2:]\n",
    "        children.append(child)\n",
    "    return children\n",
    "    \n",
    "\n",
    "def mutation(children=[]):\n",
    "    #\n",
    "    new_kids = []\n",
    "    for child in children:\n",
    "        mutant = child[::-1]\n",
    "        new_kids.append(mutant) \n",
    "    return new_kids\n",
    "\n",
    "\n",
    "\n",
    "\n",
    "if __name__ == '__main__':\n",
    "    #     create  a random population\n",
    "    range_values = 500\n",
    "    population_size = 50\n",
    "    number_iterations = 4000\n",
    "    percentage_mutations = .5\n",
    "    population = make_population(population_size, range_values)\n",
    "    solutions = []\n",
    "    print(f\"Initial population statistics: number of people {population_size} example {population[-1]} \")    \n",
    "    X=[]\n",
    "    Y=[]\n",
    "    data=[]\n",
    "    \n",
    "    counter = 1\n",
    "    old = 1000000\n",
    "    while counter <number_iterations :\n",
    "        counter = counter +1\n",
    "        #     order the population by fitness function\n",
    "    \n",
    "        ordered_population = sorted(population, key = lambda people:fitness(people))\n",
    "        \n",
    "        x,y = counter, fitness(ordered_population[0])\n",
    "        X.append(x)\n",
    "        Y.append(y)\n",
    "    \n",
    "        if y<old:\n",
    "            data_i = [fitness(people) for people in ordered_population]\n",
    "            data.append(data_i)\n",
    "            old = y\n",
    "            print(f\"top performance {fitness(ordered_population[0])} worst performance {fitness(ordered_population[-1])}\")\n",
    "           \n",
    "        if y==0:\n",
    "            counter = number_iterations\n",
    "            print(\"We found solutions\")\n",
    "            index = 0\n",
    "            item = ordered_population[index]\n",
    "            while fitness(item)==0:\n",
    "                solutions.append(item)\n",
    "                index = index+1\n",
    "                item = ordered_population[index]\n",
    "            print(solutions)\n",
    "            break \n",
    "        \n",
    "        #      Select 30% of total population from the top performers \n",
    "        first_group = ordered_population[:int(population_size*.3)]\n",
    "        \n",
    "        #      select 20% of total population from the remaining people\n",
    "        other = ordered_population[int(population_size*.3):]\n",
    "        second_group = random.sample(other, int(.2*population_size))\n",
    "        \n",
    "        #      select 20% of total population from the remaining people\n",
    "        selection = first_group+second_group\n",
    "        \n",
    "        #      make kids\n",
    "        children = crossover(selection, population_size)\n",
    "        \n",
    "        #      mutate kids\n",
    "        number_of_mutations = round(percentage_mutations*len(children))\n",
    "        post_processed_children = mutation(children[:number_of_mutations])+children[number_of_mutations:]\n",
    "        \n",
    "        #      add inmigrants\n",
    "        number_needed_people = population_size-len(selection)-len(post_processed_children)\n",
    "        inmigrants = make_population(number_needed_people, range_values)\n",
    "        population = selection+post_processed_children+inmigrants\n",
    "    \n",
    "    fig, (ax, ax2) = plt.subplots(nrows=1, ncols=2, figsize=(9, 4), sharey=False)\n",
    "    ax.plot(X, Y)\n",
    "    \n",
    "    ax.set(xlabel='iterations', ylabel='lowest fitness of the population',\n",
    "           title='decrease of fitness over time')\n",
    "    ax.grid()\n",
    "    \n",
    "    ax2.set_title('Violin plots of population fitness')\n",
    "    ax2.set_ylabel('Fitness')\n",
    "    ax2.violinplot(data)\n",
    "    \n",
    "    fig.savefig(\"test.png\")\n",
    "    plt.show()\n",
    "    "
   ]
  },
  {
   "cell_type": "code",
   "execution_count": null,
   "metadata": {
    "collapsed": true
   },
   "outputs": [],
   "source": []
  },
  {
   "cell_type": "code",
   "execution_count": null,
   "metadata": {
    "collapsed": true
   },
   "outputs": [],
   "source": []
  },
  {
   "cell_type": "code",
   "execution_count": null,
   "metadata": {
    "collapsed": true
   },
   "outputs": [],
   "source": []
  }
 ],
 "metadata": {
  "kernelspec": {
   "display_name": "Python 3 (ipykernel)",
   "language": "python",
   "name": "python3"
  },
  "language_info": {
   "codemirror_mode": {
    "name": "ipython",
    "version": 3
   },
   "file_extension": ".py",
   "mimetype": "text/x-python",
   "name": "python",
   "nbconvert_exporter": "python",
   "pygments_lexer": "ipython3",
   "version": "3.7.12"
  }
 },
 "nbformat": 4,
 "nbformat_minor": 2
}
