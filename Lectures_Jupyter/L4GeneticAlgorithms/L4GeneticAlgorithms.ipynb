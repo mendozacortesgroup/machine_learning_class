{
 "cells": [
  {
   "cell_type": "markdown",
   "metadata": {},
   "source": [
    "<center>\n",
    "<font size='7' style=\"color:#0D47A1\">  <b>GENETIC ALGORITHMS (GAs)</b> </font>\n",
    "</center>\n",
    "\n",
    "<br> "
   ]
  },
  {
   "cell_type": "markdown",
   "metadata": {},
   "source": [
    "<br>\n",
    "<br>\n",
    "<br>\n",
    "<font size='6' style=\"color:#00A6D6\">  <b>Introduction</b> </font>"
   ]
  },
  {
   "cell_type": "markdown",
   "metadata": {},
   "source": [
    "A genetic algorithm is a search heuristic that is inspired by Charles Darwin’s theory of natural evolution. This algorithm reflects the process of natural selection where the fittest individuals are selected for reproduction in order to produce offspring of the next generation.\n",
    "\n",
    "The process of natural selection starts with the selection of fittest individuals from a population. They produce offspring which inherit the characteristics of the parents and will be added to the next generation. If parents have better fitness, their offspring will be better than parents and have a better chance of surviving. This process keeps on iterating and at the end, a generation with the fittest individuals will be found."
   ]
  },
  {
   "cell_type": "markdown",
   "metadata": {},
   "source": [
    "![Figure 1](GAFigure1.png)"
   ]
  },
  {
   "cell_type": "markdown",
   "metadata": {},
   "source": [
    "<br>\n",
    "<br>\n",
    "<br>\n",
    "<font size='6' style=\"color:#00A6D6\">  <b>Motivation</b> </font>"
   ]
  },
  {
   "cell_type": "markdown",
   "metadata": {},
   "source": [
    "Some difficult problems have real-world applications. Imagine that you are using your GPS Navigation system, and it takes a few minutes (or even a few hours) to compute the “optimal” path from the source to destination. Delay in such real-world applications is not acceptable and therefore a “good-enough” solution, which is delivered “fast” is what is required.\n",
    "A classic example of this representation is the traveling salesman problem (TSP). In this the salesman has to take a tour of all the cities, visiting each city exactly once and come back to the starting city. The total distance of the tour has to be minimized. The solution to this TSP is naturally an ordering or permutation of all the cities and therefore using a permutation representation makes sense for this problem. For example, for 5 cities there are 120 different solutions (5!=120) but if we have 10 cities, there are 3,628,800 possibilities.\n",
    "\n",
    "This notion can be applied to a search problem. We consider a set of solutions for a problem and select the set of best ones out of them.\n",
    "\n",
    "Genetic Algorithms are frequently used in:\n",
    "\n",
    "   + Optimization. Genetic Algorithms are most commonly used in optimization problems wherein we have to maximize or minimize a given objective function value under a given set of constraints. \n",
    "\n",
    "   + Economics. GAs are also used to characterize various economic models like the cobweb model, game theory equilibrium resolution, asset pricing, etc.\n",
    "\n",
    "   + Parallelization. GAs also have very good parallel capabilities and prove to be very effective means in solving certain problems, and also provide a good area for research.\n",
    "\n",
    "   + Vehicle routing problems. With multiple soft time windows, multiple depots and a heterogeneous fleet.\n",
    "\n",
    "   + Robot Trajectory Generation. GAs have been used to plan the path which a robot arm takes by moving from one point to another.\n",
    "\n",
    "   + Multimodal Optimization. GAs are obviously very good approaches for multimodal optimization in which we have to find multiple optimum solutions."
   ]
  },
  {
   "cell_type": "markdown",
   "metadata": {},
   "source": [
    "<br>\n",
    "<br>\n",
    "<br>\n",
    "<font size='6' style=\"color:#00A6D6\"><b>Strengths/Weaknesses</b> </font>"
   ]
  },
  {
   "cell_type": "markdown",
   "metadata": {},
   "source": [
    "<br>\n",
    "<font size='5' style=\"color:#4CAF50\">  <b>Advantages</b></font>\n",
    "\n",
    "   + Does not require any derivative information (which may not be available for many real-world problems).\n",
    "\n",
    "   + Is faster and more efficient as compared to the traditional methods.\n",
    "\n",
    "   + Has very good parallel capabilities.\n",
    "\n",
    "   + Provides a list of “good” solutions and not just a single solution.\n",
    "\n",
    "   + Always gets an answer to the problem, which gets better over the time.\n",
    "\n",
    "   + Useful when the search space is very large and there are a large number of parameters involved.\n",
    "\n",
    "\n",
    "<br>\n",
    "<font size='5' style=\"color:#4CAF50\">  <b>Limitations</b></font>\n",
    "\n",
    "   + GAs are not suited for all problems, especially problems which are simple and for which derivative information is available. Probably we don'tget the global optimum solution\n",
    "    \n",
    "   + Fitness value is calculated repeatedly which might be computationally expensive for some problems; in other words, \n",
    "\n",
    "   + Being stochastic, there are no guarantees on the optimality or the quality of the solution.\n",
    "\n",
    "   + If not implemented properly, the GA may not converge to the optimal solution."
   ]
  },
  {
   "cell_type": "markdown",
   "metadata": {},
   "source": [
    "<br>\n",
    "<br>\n",
    "<br>\n",
    "<font size='6' style=\"color:#00A6D6\">  <b>Process</b> </font>"
   ]
  },
  {
   "cell_type": "markdown",
   "metadata": {},
   "source": [
    "Five phases are considered in a genetic algorithm.\n",
    "\n",
    "   1) Population initialization\n",
    "   2) Fitness function\n",
    "   3) Selection\n",
    "   4) Crossover\n",
    "   5) Mutation"
   ]
  },
  {
   "cell_type": "markdown",
   "metadata": {},
   "source": [
    "![Figure 2](GAFigure2.png)"
   ]
  },
  {
   "cell_type": "markdown",
   "metadata": {},
   "source": [
    "**Initial Population**\n",
    "\n",
    "The process begins with a set of individuals which is called a Population. Each individual is a solution to the problem you want to solve. An individual is characterized by a set of parameters (variables) known as Genes. Genes are joined into a string to form a Chromosome (solution).\n",
    "\n",
    "**Fitness Function**\n",
    "\n",
    "The fitness function determines how fit an individual is (the ability of an individual to compete with other individuals). It gives a fitness score to each individual. The probability that an individual will be selected for reproduction is based on its fitness score.\n",
    "\n",
    "**Selection**\n",
    "\n",
    "The idea of selection phase is to select the fittest individuals and let them pass their genes to the next generation.\n",
    "\n",
    "Two pairs of individuals (parents) are selected based on their fitness scores. Individuals with high fitness have more chance to be selected for reproduction.\n",
    "\n",
    "**Crossover**\n",
    "\n",
    "Crossover is the most significant phase in a genetic algorithm. For each pair of parents to be mated, a crossover point is chosen at random from within the genes.\n"
   ]
  },
  {
   "cell_type": "markdown",
   "metadata": {},
   "source": [
    "![Figure 3.](GAFigure3.png)"
   ]
  },
  {
   "cell_type": "markdown",
   "metadata": {},
   "source": [
    "**Mutation**\n",
    "\n",
    "In certain new offspring formed, some of their genes can be subjected to a mutation with a low random probability. This implies that some of the bits in the bit string can be flipped."
   ]
  },
  {
   "cell_type": "markdown",
   "metadata": {},
   "source": [
    "![Figure 4.](GAFigure4.png)"
   ]
  },
  {
   "cell_type": "markdown",
   "metadata": {},
   "source": [
    "<br>\n",
    "<br>\n",
    "<br>\n",
    "<font size='6' style=\"color:#00A6D6\">  <b>Some details to take into account</b> </font>"
   ]
  },
  {
   "cell_type": "markdown",
   "metadata": {},
   "source": [
    "The population size should not be kept very large as it can cause a GA to slow down, while a smaller population might not be enough for a good mating pool. Therefore, an optimal population size needs to be decided by trial and error.\n",
    "\n",
    "In a generational model, we generate ‘n’ off-springs, we can take the best off-springs and replace some individuals from the initial population or the entire population is replaced by the new one at the end of the iteration. What do you choose?\n",
    "\n",
    "For a new generation, is it better choose just all the best ones? Parent selection is very crucial to the convergence rate of the GA as good parents drive individuals to better and fitter solutions.\n",
    "\n",
    "However, care should be taken to prevent one extremely fit solution from taking over the entire population in a few generations, as this leads to the solutions being close to one another in the solution space thereby leading to a loss of diversity. Maintaining good diversity in the population is extremely crucial for the success of a GA. This taking up of the entire population by one extremely fit solution is known as premature convergence and is an undesirable condition in a GA.\n",
    "\n",
    "Some GAs employ Elitism, it means the current fittest member of the population is always propagated to the next generation, but keep in mind the diversity of the population should be maintained otherwise it might lead to premature convergence.\n",
    "\n",
    "In order to prevent premature convergence, there are several random methods for choosing parents: Roulette Wheel, Tournament, Stochastic Universal Sampling, or Random Selection. The fittest members have a preference for reproducing, but they shouldn't be the only ones.\n",
    "\n",
    "Crossover process can be achieved out splitting the chromosomes in two, three or uniform parts. \n",
    "\n",
    "Mutation is the part of the GA which is related to the “exploration” of the search space. It has been observed that mutation is essential to the convergence of the GA while crossover is not. We select one or more random bits and flip them.\n",
    "\n",
    "The Survivor Selection Policy determines which individuals are to be kicked out and which are to be kept in the next generation. It is crucial as it should ensure that the fitter individuals are not kicked out of the population, while at the same time diversity should be maintained in the population. See the comments in this video (5:30-9:10 min)\n"
   ]
  },
  {
   "cell_type": "code",
   "execution_count": 1,
   "metadata": {},
   "outputs": [
    {
     "data": {
      "image/jpeg": "[encoded data removed]",
      "text/html": [
       "\n",
       "        <iframe\n",
       "            width=\"400\"\n",
       "            height=\"300\"\n",
       "            src=\"https://www.youtube.com/embed/XP8R0yzAbdo\"\n",
       "            frameborder=\"0\"\n",
       "            allowfullscreen\n",
       "        ></iframe>\n",
       "        "
      ],
      "text/plain": [
       "<IPython.lib.display.YouTubeVideo at 0x7fa6949c86d8>"
      ]
     },
     "execution_count": 1,
     "metadata": {},
     "output_type": "execute_result"
    }
   ],
   "source": [
    "from IPython.display import YouTubeVideo\n",
    "YouTubeVideo(\"XP8R0yzAbdo\")"
   ]
  },
  {
   "cell_type": "markdown",
   "metadata": {},
   "source": [
    "The termination condition of a Genetic Algorithm is important in determining when a GA run will end. Usually, we keep one of the following termination conditions −\n",
    "\n",
    "   + When there has been no improvement in the population for X iterations.\n",
    "   + When we reach an absolute number of generations.\n",
    "   + When the objective function value has reached a certain pre-defined value."
   ]
  },
  {
   "cell_type": "markdown",
   "metadata": {},
   "source": [
    "<br>\n",
    "<br>\n",
    "<br>\n",
    "<font size='6' style=\"color:#00A6D6\">  <b>Summary</b></font>"
   ]
  },
  {
   "cell_type": "markdown",
   "metadata": {},
   "source": [
    "According to [1]:\n",
    "We use GA for discrete parameter optimization.\n",
    "\n",
    "It's good for combinatorial problems.\n",
    "\n",
    "They are slow.\n",
    "\n",
    "It's challenging to code, for example finding the right representations, the fitness function, etc."
   ]
  },
  {
   "cell_type": "markdown",
   "metadata": {},
   "source": [
    "<br>\n",
    "<br>\n",
    "<br>\n",
    "<font size='6' style=\"color:#00A6D6\">  <b>Example</b></font>"
   ]
  },
  {
   "cell_type": "markdown",
   "metadata": {},
   "source": [
    "Suppose that there is an equation a + 2b + 3c + 4d = 30, GA will be used to find the variables a, b, c, and d that satisfy the equation. First we should formulate the objective function, for this problem the function is  f(a,b,c,d) = a + 2b + 3c + 4d -30. For simplicity we restrict to integers values between 0 and 30; in general, the variables a,b,c,d won't be necessary integers or have values in such domain.  \n",
    "For the first step, we choose 50 individuals randomly."
   ]
  },
  {
   "cell_type": "code",
   "execution_count": 1,
   "metadata": {
    "scrolled": true
   },
   "outputs": [
    {
     "name": "stdout",
     "output_type": "stream",
     "text": [
      "The genes of an individual have the form [a,b,c,d]\n",
      "Initial Population:\n",
      "[10, 8, 8, 5]\n",
      "[21, 17, 23, 3]\n",
      "[22, 7, 22, 6]\n",
      "[8, 12, 17, 15]\n",
      "[8, 4, 18, 13]\n",
      "[17, 22, 18, 18]\n",
      "[29, 12, 8, 14]\n",
      "[23, 24, 17, 8]\n",
      "[3, 5, 15, 21]\n",
      "[29, 20, 0, 28]\n",
      "[19, 1, 1, 19]\n",
      "[9, 16, 16, 7]\n",
      "[18, 6, 29, 23]\n",
      "[26, 11, 0, 24]\n",
      "[7, 23, 20, 20]\n",
      "[8, 11, 26, 24]\n",
      "[21, 18, 24, 3]\n",
      "[27, 9, 28, 27]\n",
      "[18, 20, 26, 15]\n",
      "[7, 23, 5, 6]\n",
      "[12, 16, 17, 20]\n",
      "[24, 26, 6, 25]\n",
      "[9, 12, 9, 24]\n",
      "[7, 11, 26, 22]\n",
      "[25, 23, 15, 21]\n",
      "[2, 20, 19, 1]\n",
      "[18, 25, 0, 8]\n",
      "[12, 8, 21, 25]\n",
      "[11, 20, 15, 2]\n",
      "[16, 7, 5, 5]\n",
      "[21, 2, 12, 3]\n",
      "[8, 24, 6, 16]\n",
      "[28, 29, 4, 26]\n",
      "[12, 17, 24, 15]\n",
      "[10, 22, 19, 17]\n",
      "[0, 23, 5, 8]\n",
      "[8, 25, 23, 19]\n",
      "[17, 14, 12, 9]\n",
      "[8, 27, 8, 19]\n",
      "[6, 26, 29, 23]\n",
      "[19, 14, 2, 10]\n",
      "[28, 7, 7, 17]\n",
      "[25, 5, 10, 25]\n",
      "[23, 3, 3, 11]\n",
      "[0, 12, 4, 13]\n",
      "[4, 9, 25, 16]\n",
      "[27, 17, 11, 15]\n",
      "[4, 3, 0, 16]\n",
      "[10, 17, 15, 17]\n",
      "[11, 2, 26, 4]\n"
     ]
    }
   ],
   "source": [
    "\n",
    "import random\n",
    "import math\n",
    "import numpy as np\n",
    "import matplotlib.pyplot as plt\n",
    "\n",
    "def make_population(population_size, range_values):\n",
    "    #We first start the population randomly\n",
    "    population = []\n",
    "    for i in range(population_size):\n",
    "        p = [random.randrange(0,range_values,1), random.randrange(0,range_values,1), \n",
    "             random.randrange(0,range_values,1), random.randrange(0,range_values,1)]\n",
    "        population.append(p)\n",
    "    return population\n",
    "\n",
    "\n",
    "range_values = 500\n",
    "population_size = 50\n",
    "number_iterations = 4000\n",
    "percentage_mutations = .25\n",
    "\n",
    "population = make_population(population_size, range_values)\n",
    "print('The genes of an individual have the form [a,b,c,d]')\n",
    "print('Initial Population:')\n",
    "_ = [print(x) for x in population]"
   ]
  },
  {
   "cell_type": "markdown",
   "metadata": {},
   "source": [
    "Now we evaluate the population in the target function and select the top 30% members and 20% of the remaining ones. We take the 30% best chromosomes and 20% from the others chromosomes in order to avoid elithism.     \n"
   ]
  },
  {
   "cell_type": "code",
   "execution_count": 3,
   "metadata": {},
   "outputs": [
    {
     "name": "stdout",
     "output_type": "stream",
     "text": [
      "Selected:  22 \n",
      "\n",
      "[16, 7, 5, 5]  has fitness =  35.0\n",
      "[10, 8, 8, 5]  has fitness =  40.0\n",
      "[21, 2, 12, 3]  has fitness =  43.0\n",
      "[4, 3, 0, 16]  has fitness =  44.0\n",
      "[23, 3, 3, 11]  has fitness =  52.0\n",
      "[0, 12, 4, 13]  has fitness =  58.0\n",
      "[7, 23, 5, 6]  has fitness =  62.0\n",
      "[0, 23, 5, 8]  has fitness =  63.0\n",
      "[19, 14, 2, 10]  has fitness =  63.0\n",
      "[19, 1, 1, 19]  has fitness =  70.0\n",
      "[18, 25, 0, 8]  has fitness =  70.0\n",
      "[2, 20, 19, 1]  has fitness =  73.0\n",
      "[11, 20, 15, 2]  has fitness =  74.0\n",
      "[11, 2, 26, 4]  has fitness =  79.0\n",
      "[9, 16, 16, 7]  has fitness =  87.0\n",
      "[3, 5, 15, 21]  has fitness =  112.0\n",
      "[27, 17, 11, 15]  has fitness =  124.0\n",
      "[9, 12, 9, 24]  has fitness =  126.0\n",
      "[17, 22, 18, 18]  has fitness =  157.0\n",
      "[18, 6, 29, 23]  has fitness =  179.0\n",
      "[18, 20, 26, 15]  has fitness =  166.0\n",
      "[29, 12, 8, 14]  has fitness =  103.0\n"
     ]
    }
   ],
   "source": [
    "\n",
    "\n",
    "def fitness(person):\n",
    "    return math.fabs( person[0]+person[1]*2+person[2]*3+person[3]*4 -30)\n",
    "\n",
    "#      Select 30% of total population from the top performers \n",
    "first_group = ordered_population[:int(population_size*'fill here with the correct value' )]\n",
    "other = ordered_population[int(population_size*.3):]\n",
    "\n",
    "#      select 20% of total population from the remaining people\n",
    "second_group = random.sample(other, int(population_size*'fill here with the correct value'))\n",
    "\n",
    "#      create the new population\n",
    "selection = first_group+second_group\n",
    "print(f\"top value of fitness: {fitness(ordered_population[0])}\")"
   ]
  },
  {
   "cell_type": "markdown",
   "metadata": {},
   "source": [
    "\n",
    "Crossover:We create new members with 50% chromosomes from the mother side and 50% from the father side."
   ]
  },
  {
   "cell_type": "code",
   "execution_count": 5,
   "metadata": {},
   "outputs": [
    {
     "name": "stdout",
     "output_type": "stream",
     "text": [
      "7  new people: \n",
      " [[0, 23, 5, 6], [18, 25, 2, 10], [10, 8, 11, 15], [9, 16, 1, 19], [0, 23, 0, 8], [10, 8, 15, 21], [4, 3, 5, 6]]\n"
     ]
    }
   ],
   "source": [
    "#make crossover\n",
    "def crossover(selection, population_size):\n",
    "    children = []\n",
    "    number_inmigrants = int( population_size*'fill here with the correct value') #inmigration allows for more diversity\n",
    "    population_current_size = len(selection)\n",
    "    for i in range(population_size-population_current_size-number_inmigrants):\n",
    "        father,mother = random.choices(selection, k=2)\n",
    "        child =  'fill here with the correct value'                              #how do you mixes the genes?\n",
    "        children.append(child)\n",
    "    return children\n",
    "    \n"
   ]
  },
  {
   "cell_type": "markdown",
   "metadata": {},
   "source": [
    "In the croosover, new elements are made,  but the new generation process is not completed until the mutation step. For this example the third and fourth genes were mutated on 10% of the children."
   ]
  },
  {
   "cell_type": "code",
   "execution_count": 6,
   "metadata": {},
   "outputs": [
    {
     "name": "stdout",
     "output_type": "stream",
     "text": [
      "mutants:  [[0, 23, 6, 5]]\n",
      "our new population has size:  29\n"
     ]
    }
   ],
   "source": [
    "#make mutation\n",
    "\n",
    "def mutation(children=[]):\n",
    "    #\n",
    "    new_kids = []\n",
    "    for child in children:\n",
    "        mutant = 'fill here with the correct value'                              #how do you mutate the genes?\n",
    "        new_kids.append(mutant) \n",
    "    return new_kids"
   ]
  },
  {
   "cell_type": "markdown",
   "metadata": {},
   "source": [
    "With the new elements the process is repeated: evaluation, selection, crossover and mutation.  The iteration process can be achived until it find the optimized solution (\"while\" loop) or delimitated for a specific number (\"for\" loop). "
   ]
  },
  {
   "cell_type": "markdown",
   "metadata": {},
   "source": [
    " "
   ]
  },
  {
   "cell_type": "code",
   "execution_count": 1,
   "metadata": {},
   "outputs": [
    {
     "name": "stdout",
     "output_type": "stream",
     "text": [
      "Initial population statistics: number of people 50 example [295, 0, 464, 97] \n",
      "top performance 889.0 worst performance 4100.0\n",
      "top performance 616.0 worst performance 3665.0\n",
      "top performance 355.0 worst performance 3954.0\n",
      "top performance 225.0 worst performance 3948.0\n",
      "top performance 129.0 worst performance 4107.0\n",
      "top performance 105.0 worst performance 3216.0\n",
      "top performance 95.0 worst performance 3266.0\n",
      "top performance 87.0 worst performance 3726.0\n",
      "top performance 38.0 worst performance 3782.0\n",
      "top performance 15.0 worst performance 4266.0\n"
     ]
    },
    {
     "data": {
      "image/png": "[encoded data removed]",
      "text/plain": [
       "<Figure size 648x288 with 2 Axes>"
      ]
     },
     "metadata": {
      "needs_background": "light"
     },
     "output_type": "display_data"
    }
   ],
   "source": [
    "# -*- coding: utf-8 -*-\n",
    "\"\"\"\n",
    "Find a,b,c,d that satisfy:\n",
    "\n",
    "a+2b+3c+4d=30\n",
    "\"\"\"\n",
    "\n",
    "import random\n",
    "import math\n",
    "import numpy as np\n",
    "import matplotlib.pyplot as plt\n",
    "\n",
    "def make_population(population_size, range_values):\n",
    "    #We first start the population randomly\n",
    "    population = []\n",
    "    for i in range(population_size):\n",
    "        p = [random.randrange(0,range_values,1), random.randrange(0,range_values,1), \n",
    "             random.randrange(0,range_values,1), random.randrange(0,range_values,1)]\n",
    "        population.append(p)\n",
    "    return population\n",
    "    \n",
    "\n",
    "def fitness(person):\n",
    "    return math.fabs( person[0]+person[1]*2+person[2]*3+person[3]*4 -30)\n",
    "\n",
    "\n",
    "def crossover(selection, population_size):\n",
    "    children = []\n",
    "    number_inmigrants = int(.1* population_size)\n",
    "    population_current_size = len(selection)\n",
    "    for i in range(population_size-population_current_size-number_inmigrants):\n",
    "        father,mother = random.choices(selection, k=2)\n",
    "        child =  father[:2]+mother[2:]\n",
    "        children.append(child)\n",
    "    return children\n",
    "    \n",
    "\n",
    "def mutation(children=[]):\n",
    "    #\n",
    "    new_kids = []\n",
    "    for child in children:\n",
    "        mutant = child[::-1]\n",
    "        new_kids.append(mutant) \n",
    "    return new_kids\n",
    "\n",
    "\n",
    "\n",
    "\n",
    "if __name__ == '__main__':\n",
    "    #     create  a random population\n",
    "    range_values = 500\n",
    "    population_size = 50\n",
    "    number_iterations = 4000\n",
    "    percentage_mutations = .25\n",
    "    population = make_population(population_size, range_values)\n",
    "    solutions = []\n",
    "    print(f\"Initial population statistics: number of people {population_size} example {population[-1]} \")    \n",
    "    X=[]\n",
    "    Y=[]\n",
    "    data=[]\n",
    "    \n",
    "    counter = 1\n",
    "    old = 1000000\n",
    "    while counter <number_iterations :\n",
    "        counter = counter +1\n",
    "        #     order the population by fitness function\n",
    "    \n",
    "        ordered_population = sorted(population, key = lambda people:fitness(people))\n",
    "        \n",
    "        x,y = counter, fitness(ordered_population[0])\n",
    "        X.append(x)\n",
    "        Y.append(y)\n",
    "    \n",
    "        if y<old:\n",
    "            data_i = [fitness(people) for people in ordered_population]\n",
    "            data.append(data_i)\n",
    "            old = y\n",
    "            print(f\"top performance {fitness(ordered_population[0])} worst performance {fitness(ordered_population[-1])}\")\n",
    "           \n",
    "        \n",
    "        if y==0:\n",
    "            counter = number_iterations\n",
    "            print(\"We found solutions\")\n",
    "            index = 0\n",
    "            item = ordered_population[index]\n",
    "            while fitness(item)==0:\n",
    "                solutions.append(item)\n",
    "                index = index+1\n",
    "                item = ordered_population[index]\n",
    "            print(solutions)\n",
    "            break \n",
    "        \n",
    "        #      Select 30% of total population from the top performers \n",
    "        first_group = ordered_population[:int(population_size*.3)]\n",
    "        \n",
    "        #      select 20% of total population from the remaining people\n",
    "        other = ordered_population[int(population_size*.3):]\n",
    "        second_group = random.sample(other, int(.2*population_size))\n",
    "        \n",
    "        #      select 20% of total population from the remaining people\n",
    "        selection = first_group+second_group\n",
    "        \n",
    "        #      make kids\n",
    "        children = crossover(selection, population_size)\n",
    "        \n",
    "        #      mutate kids\n",
    "        number_of_mutations = round(percentage_mutations*len(children))\n",
    "        post_processed_children = mutation(children[:number_of_mutations])+children[number_of_mutations:]\n",
    "        \n",
    "        #      add inmigrants\n",
    "        number_needed_people = population_size-len(selection)-len(post_processed_children)\n",
    "        inmigrants = make_population(number_needed_people, range_values)\n",
    "        population = selection+post_processed_children+inmigrants\n",
    "    \n",
    "    fig, (ax, ax2) = plt.subplots(nrows=1, ncols=2, figsize=(9, 4), sharey=False)\n",
    "    ax.plot(X, Y)\n",
    "    \n",
    "    ax.set(xlabel='iterations', ylabel='lowest fitness of the population',\n",
    "           title='decrease of fitness over time')\n",
    "    ax.grid()\n",
    "    \n",
    "    ax2.set_title('Violin plots of population fitness when the fitness decreases')\n",
    "    ax2.set_ylabel('Fitness')\n",
    "    ax2.violinplot(data)\n",
    "    \n",
    "    fig.savefig(\"test.png\")\n",
    "    plt.show()\n",
    "    "
   ]
  },
  {
   "cell_type": "markdown",
   "metadata": {},
   "source": [
    "<font size='6' style=\"color:#00A6D6\">  <b>Homework</b></font>\n",
    "\n",
    "\n",
    "Modify the GA to find a solution to the equation $x^3+y^3+z^3=d^3$ where $x,y,z,d>0$ are integers smaller than 60."
   ]
  },
  {
   "cell_type": "markdown",
   "metadata": {},
   "source": [
    "## <font size='6' style=\"color:#00A6D6\"> <b>Advance Activity </b> </font> \n",
    "\n",
    "You can implement GA on the contest https://www.codingame.com/ide/puzzle/mean-max "
   ]
  },
  {
   "cell_type": "markdown",
   "metadata": {},
   "source": [
    "<font size='6' style=\"color:#00A6D6\">  <b>References</b> </font>"
   ]
  },
  {
   "cell_type": "markdown",
   "metadata": {},
   "source": [
    "+ Genetic Algorithms in Search, Optimization and Machine Learning by David E. Goldberg.\n",
    "\n",
    "+ Genetic Algorithms + Data Structures = Evolutionary Programs by Zbigniew Michalewicz.\n",
    "\n",
    "+ Practical Genetic Algorithms by Randy L. Haupt and Sue Ellen Haupt.\n",
    "\n",
    "+ Multi-Objective Optimization using Evolutionary Algorithms by Kalyanmoy Deb.\n",
    "\n",
    "[1]\n",
    "http://www.cs.northwestern.edu/~pardo/courses/eecs349/lectures.php\n",
    "\n",
    "[2] https://www.tutorialspoint.com/genetic_algorithms"
   ]
  },
  {
   "cell_type": "markdown",
   "metadata": {},
   "source": [
    "![Figure 5.](GAFigure5.png)"
   ]
  }
 ],
 "metadata": {
  "kernelspec": {
   "display_name": "Python 3 (ipykernel)",
   "language": "python",
   "name": "python3"
  },
  "language_info": {
   "codemirror_mode": {
    "name": "ipython",
    "version": 3
   },
   "file_extension": ".py",
   "mimetype": "text/x-python",
   "name": "python",
   "nbconvert_exporter": "python",
   "pygments_lexer": "ipython3",
   "version": "3.7.12"
  }
 },
 "nbformat": 4,
 "nbformat_minor": 2
}
